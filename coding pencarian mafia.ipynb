{
 "cells": [
  {
   "cell_type": "code",
   "execution_count": 3,
   "id": "af0e6c48",
   "metadata": {},
   "outputs": [
    {
     "name": "stdout",
     "output_type": "stream",
     "text": [
      "isikan nama = AKMAL\n",
      "isikan umur = 42\n",
      "isikan alamat = new york\n",
      "isikan tabungan = 20000000\n",
      "AKMAL kemungkinan seorang anggota mafia dengan pangkat Don\n"
     ]
    }
   ],
   "source": [
    "nama     = input ('isikan nama = ')\n",
    "umur     = int(input ('isikan umur = '))\n",
    "alamat   = input ('isikan alamat = ')\n",
    "tabungan = int(input ('isikan tabungan = '))\n",
    "\n",
    "#pangkat DON\n",
    "pangkat = ''\n",
    "if umur > 40 :\n",
    "    if alamat == 'new york' or alamat == 'nevada' or alamat == 'havana':\n",
    "         if tabungan > 10000000 :\n",
    "            pangkat = 'Don'\n",
    "\n",
    "#pangkat UNDERBOSS    \n",
    "elif umur > 25 and umur < 40 :\n",
    "    if alamat == 'new jersey' or alamat == 'manhattan' or alamat == 'nevada':\n",
    "         if tabungan >= 1000000 or tabungan <= 2000000 :\n",
    "            pangkat = 'Underboss'\n",
    "            \n",
    "#pangkat CAPO \n",
    "elif umur > 18 and umur < 24 :\n",
    "    if alamat == 'california' or alamat == 'detroit' or alamat == 'boston':\n",
    "         if tabungan < 1000000 :\n",
    "            pangkat = 'Capo'\n",
    "            \n",
    "            \n",
    "if pangkat != '':\n",
    "    print(f'{nama} kemungkinan seorang anggota mafia dengan pangkat {pangkat}')\n",
    "else :\n",
    "    print (f'{nama} tidak mencurigakan')"
   ]
  },
  {
   "cell_type": "code",
   "execution_count": null,
   "id": "5565ff5c",
   "metadata": {},
   "outputs": [],
   "source": []
  }
 ],
 "metadata": {
  "kernelspec": {
   "display_name": "Python 3 (ipykernel)",
   "language": "python",
   "name": "python3"
  },
  "language_info": {
   "codemirror_mode": {
    "name": "ipython",
    "version": 3
   },
   "file_extension": ".py",
   "mimetype": "text/x-python",
   "name": "python",
   "nbconvert_exporter": "python",
   "pygments_lexer": "ipython3",
   "version": "3.11.5"
  }
 },
 "nbformat": 4,
 "nbformat_minor": 5
}
